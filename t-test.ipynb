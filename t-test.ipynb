{
 "cells": [
  {
   "cell_type": "code",
   "execution_count": 2,
   "metadata": {
    "collapsed": false
   },
   "outputs": [
    {
     "name": "stdout",
     "output_type": "stream",
     "text": [
      "(False, Ttest_indResult(statistic=9.9357022262420944, pvalue=3.8102742258887383e-23))\n"
     ]
    }
   ],
   "source": [
    "import numpy, scipy.stats, pandas\n",
    "\n",
    "def compare_averages():\n",
    "    baseball_data = pandas.read_csv(\"data/baseball_stats.csv\")\n",
    "    baseball_data_left = baseball_data[baseball_data['handedness'] == 'L']\n",
    "    baseball_data_right = baseball_data[baseball_data['handedness'] == 'R']\n",
    "    \n",
    "    result = scipy.stats.ttest_ind(baseball_data_left['avg'], baseball_data_right['avg'], equal_var=False)\n",
    "    \n",
    "    if result[1] <= 0.5:\n",
    "        return(False, result)\n",
    "    else:\n",
    "        return(True, result)\n",
    "\n",
    "\n",
    "result = compare_averages()\n",
    "print(result)"
   ]
  },
  {
   "cell_type": "code",
   "execution_count": null,
   "metadata": {
    "collapsed": true
   },
   "outputs": [],
   "source": []
  }
 ],
 "metadata": {
  "kernelspec": {
   "display_name": "Python 3",
   "language": "python",
   "name": "python3"
  },
  "language_info": {
   "codemirror_mode": {
    "name": "ipython",
    "version": 3
   },
   "file_extension": ".py",
   "mimetype": "text/x-python",
   "name": "python",
   "nbconvert_exporter": "python",
   "pygments_lexer": "ipython3",
   "version": "3.6.0"
  }
 },
 "nbformat": 4,
 "nbformat_minor": 2
}
